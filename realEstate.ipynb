{
 "cells": [
  {
   "cell_type": "markdown",
   "id": "2553b299",
   "metadata": {},
   "source": [
    "# importing libraries\n"
   ]
  },
  {
   "cell_type": "code",
   "execution_count": 2,
   "id": "ce1d2e9d",
   "metadata": {},
   "outputs": [],
   "source": [
    "import pandas as pd\n",
    "import numpy as np\n",
    "import matplotlib.pyplot as plt\n",
    "import seaborn as sns\n",
    "import warnings\n",
    "warnings.filterwarnings(\"ignore\")"
   ]
  },
  {
   "cell_type": "markdown",
   "id": "d0346a5f",
   "metadata": {},
   "source": [
    "# loading dataset"
   ]
  },
  {
   "cell_type": "code",
   "execution_count": 4,
   "id": "934430ea",
   "metadata": {},
   "outputs": [],
   "source": [
    "df=pd.read_csv(\"real_estate2..csv\")"
   ]
  },
  {
   "cell_type": "markdown",
   "id": "a9fcb275",
   "metadata": {},
   "source": [
    "# Exploratory Data Analysis and Data cleaning"
   ]
  },
  {
   "cell_type": "code",
   "execution_count": 5,
   "id": "a32351b8",
   "metadata": {},
   "outputs": [
    {
     "data": {
      "text/html": [
       "<div>\n",
       "<style scoped>\n",
       "    .dataframe tbody tr th:only-of-type {\n",
       "        vertical-align: middle;\n",
       "    }\n",
       "\n",
       "    .dataframe tbody tr th {\n",
       "        vertical-align: top;\n",
       "    }\n",
       "\n",
       "    .dataframe thead th {\n",
       "        text-align: right;\n",
       "    }\n",
       "</style>\n",
       "<table border=\"1\" class=\"dataframe\">\n",
       "  <thead>\n",
       "    <tr style=\"text-align: right;\">\n",
       "      <th></th>\n",
       "      <th>status</th>\n",
       "      <th>bed</th>\n",
       "      <th>bath</th>\n",
       "      <th>acre_lot</th>\n",
       "      <th>city</th>\n",
       "      <th>state</th>\n",
       "      <th>zip_code</th>\n",
       "      <th>house_size</th>\n",
       "      <th>prev_sold_date</th>\n",
       "      <th>price</th>\n",
       "    </tr>\n",
       "  </thead>\n",
       "  <tbody>\n",
       "    <tr>\n",
       "      <th>0</th>\n",
       "      <td>for_sale</td>\n",
       "      <td>7</td>\n",
       "      <td>3</td>\n",
       "      <td>0.09</td>\n",
       "      <td>Dorado</td>\n",
       "      <td>Puerto Rico</td>\n",
       "      <td>949</td>\n",
       "      <td>1192</td>\n",
       "      <td>28-06-2019</td>\n",
       "      <td>110000</td>\n",
       "    </tr>\n",
       "    <tr>\n",
       "      <th>1</th>\n",
       "      <td>for_sale</td>\n",
       "      <td>7</td>\n",
       "      <td>3</td>\n",
       "      <td>0.09</td>\n",
       "      <td>Dorado</td>\n",
       "      <td>Puerto Rico</td>\n",
       "      <td>949</td>\n",
       "      <td>1192</td>\n",
       "      <td>28-06-2019</td>\n",
       "      <td>110000</td>\n",
       "    </tr>\n",
       "    <tr>\n",
       "      <th>2</th>\n",
       "      <td>for_sale</td>\n",
       "      <td>7</td>\n",
       "      <td>3</td>\n",
       "      <td>0.09</td>\n",
       "      <td>Dorado</td>\n",
       "      <td>Puerto Rico</td>\n",
       "      <td>949</td>\n",
       "      <td>1192</td>\n",
       "      <td>28-06-2019</td>\n",
       "      <td>110000</td>\n",
       "    </tr>\n",
       "    <tr>\n",
       "      <th>3</th>\n",
       "      <td>for_sale</td>\n",
       "      <td>7</td>\n",
       "      <td>3</td>\n",
       "      <td>0.09</td>\n",
       "      <td>Dorado</td>\n",
       "      <td>Puerto Rico</td>\n",
       "      <td>949</td>\n",
       "      <td>1192</td>\n",
       "      <td>28-06-2019</td>\n",
       "      <td>110000</td>\n",
       "    </tr>\n",
       "    <tr>\n",
       "      <th>4</th>\n",
       "      <td>for_sale</td>\n",
       "      <td>7</td>\n",
       "      <td>3</td>\n",
       "      <td>0.09</td>\n",
       "      <td>Dorado</td>\n",
       "      <td>Puerto Rico</td>\n",
       "      <td>949</td>\n",
       "      <td>1192</td>\n",
       "      <td>28-06-2019</td>\n",
       "      <td>110000</td>\n",
       "    </tr>\n",
       "  </tbody>\n",
       "</table>\n",
       "</div>"
      ],
      "text/plain": [
       "     status  bed  bath  acre_lot    city        state  zip_code  house_size  \\\n",
       "0  for_sale    7     3      0.09  Dorado  Puerto Rico       949        1192   \n",
       "1  for_sale    7     3      0.09  Dorado  Puerto Rico       949        1192   \n",
       "2  for_sale    7     3      0.09  Dorado  Puerto Rico       949        1192   \n",
       "3  for_sale    7     3      0.09  Dorado  Puerto Rico       949        1192   \n",
       "4  for_sale    7     3      0.09  Dorado  Puerto Rico       949        1192   \n",
       "\n",
       "  prev_sold_date   price  \n",
       "0     28-06-2019  110000  \n",
       "1     28-06-2019  110000  \n",
       "2     28-06-2019  110000  \n",
       "3     28-06-2019  110000  \n",
       "4     28-06-2019  110000  "
      ]
     },
     "execution_count": 5,
     "metadata": {},
     "output_type": "execute_result"
    }
   ],
   "source": [
    "df.head()"
   ]
  },
  {
   "cell_type": "code",
   "execution_count": 6,
   "id": "c1f08662",
   "metadata": {},
   "outputs": [
    {
     "data": {
      "text/html": [
       "<div>\n",
       "<style scoped>\n",
       "    .dataframe tbody tr th:only-of-type {\n",
       "        vertical-align: middle;\n",
       "    }\n",
       "\n",
       "    .dataframe tbody tr th {\n",
       "        vertical-align: top;\n",
       "    }\n",
       "\n",
       "    .dataframe thead th {\n",
       "        text-align: right;\n",
       "    }\n",
       "</style>\n",
       "<table border=\"1\" class=\"dataframe\">\n",
       "  <thead>\n",
       "    <tr style=\"text-align: right;\">\n",
       "      <th></th>\n",
       "      <th>status</th>\n",
       "      <th>bed</th>\n",
       "      <th>bath</th>\n",
       "      <th>acre_lot</th>\n",
       "      <th>city</th>\n",
       "      <th>state</th>\n",
       "      <th>zip_code</th>\n",
       "      <th>house_size</th>\n",
       "      <th>prev_sold_date</th>\n",
       "      <th>price</th>\n",
       "    </tr>\n",
       "  </thead>\n",
       "  <tbody>\n",
       "    <tr>\n",
       "      <th>194</th>\n",
       "      <td>for_sale</td>\n",
       "      <td>4</td>\n",
       "      <td>2</td>\n",
       "      <td>1.00</td>\n",
       "      <td>Brimfield</td>\n",
       "      <td>Massachusetts</td>\n",
       "      <td>1010</td>\n",
       "      <td>1765</td>\n",
       "      <td>26-11-2003</td>\n",
       "      <td>129900</td>\n",
       "    </tr>\n",
       "    <tr>\n",
       "      <th>195</th>\n",
       "      <td>for_sale</td>\n",
       "      <td>2</td>\n",
       "      <td>1</td>\n",
       "      <td>0.35</td>\n",
       "      <td>Brimfield</td>\n",
       "      <td>Massachusetts</td>\n",
       "      <td>1010</td>\n",
       "      <td>814</td>\n",
       "      <td>16-01-2004</td>\n",
       "      <td>164900</td>\n",
       "    </tr>\n",
       "    <tr>\n",
       "      <th>196</th>\n",
       "      <td>for_sale</td>\n",
       "      <td>4</td>\n",
       "      <td>4</td>\n",
       "      <td>1.52</td>\n",
       "      <td>Brimfield</td>\n",
       "      <td>Massachusetts</td>\n",
       "      <td>1010</td>\n",
       "      <td>3408</td>\n",
       "      <td>30-03-2005</td>\n",
       "      <td>559000</td>\n",
       "    </tr>\n",
       "    <tr>\n",
       "      <th>197</th>\n",
       "      <td>for_sale</td>\n",
       "      <td>3</td>\n",
       "      <td>4</td>\n",
       "      <td>5.93</td>\n",
       "      <td>Brimfield</td>\n",
       "      <td>Massachusetts</td>\n",
       "      <td>1010</td>\n",
       "      <td>5500</td>\n",
       "      <td>01-04-1993</td>\n",
       "      <td>899900</td>\n",
       "    </tr>\n",
       "    <tr>\n",
       "      <th>198</th>\n",
       "      <td>for_sale</td>\n",
       "      <td>3</td>\n",
       "      <td>1</td>\n",
       "      <td>0.25</td>\n",
       "      <td>Chester</td>\n",
       "      <td>Massachusetts</td>\n",
       "      <td>1011</td>\n",
       "      <td>1367</td>\n",
       "      <td>13-11-2009</td>\n",
       "      <td>115900</td>\n",
       "    </tr>\n",
       "  </tbody>\n",
       "</table>\n",
       "</div>"
      ],
      "text/plain": [
       "       status  bed  bath  acre_lot       city          state  zip_code  \\\n",
       "194  for_sale    4     2      1.00  Brimfield  Massachusetts      1010   \n",
       "195  for_sale    2     1      0.35  Brimfield  Massachusetts      1010   \n",
       "196  for_sale    4     4      1.52  Brimfield  Massachusetts      1010   \n",
       "197  for_sale    3     4      5.93  Brimfield  Massachusetts      1010   \n",
       "198  for_sale    3     1      0.25    Chester  Massachusetts      1011   \n",
       "\n",
       "     house_size prev_sold_date   price  \n",
       "194        1765     26-11-2003  129900  \n",
       "195         814     16-01-2004  164900  \n",
       "196        3408     30-03-2005  559000  \n",
       "197        5500     01-04-1993  899900  \n",
       "198        1367     13-11-2009  115900  "
      ]
     },
     "execution_count": 6,
     "metadata": {},
     "output_type": "execute_result"
    }
   ],
   "source": [
    "df.tail()"
   ]
  },
  {
   "cell_type": "code",
   "execution_count": 7,
   "id": "a5b0356b",
   "metadata": {},
   "outputs": [
    {
     "data": {
      "text/plain": [
       "(199, 10)"
      ]
     },
     "execution_count": 7,
     "metadata": {},
     "output_type": "execute_result"
    }
   ],
   "source": [
    "df.shape"
   ]
  },
  {
   "cell_type": "code",
   "execution_count": 8,
   "id": "b8caad32",
   "metadata": {},
   "outputs": [
    {
     "data": {
      "text/plain": [
       "Index(['status', 'bed', 'bath', 'acre_lot', 'city', 'state', 'zip_code',\n",
       "       'house_size', 'prev_sold_date', 'price'],\n",
       "      dtype='object')"
      ]
     },
     "execution_count": 8,
     "metadata": {},
     "output_type": "execute_result"
    }
   ],
   "source": [
    "df.columns"
   ]
  },
  {
   "cell_type": "code",
   "execution_count": 9,
   "id": "b6abf869",
   "metadata": {},
   "outputs": [
    {
     "name": "stdout",
     "output_type": "stream",
     "text": [
      "<class 'pandas.core.frame.DataFrame'>\n",
      "RangeIndex: 199 entries, 0 to 198\n",
      "Data columns (total 10 columns):\n",
      " #   Column          Non-Null Count  Dtype  \n",
      "---  ------          --------------  -----  \n",
      " 0   status          199 non-null    object \n",
      " 1   bed             199 non-null    int64  \n",
      " 2   bath            199 non-null    int64  \n",
      " 3   acre_lot        199 non-null    float64\n",
      " 4   city            199 non-null    object \n",
      " 5   state           199 non-null    object \n",
      " 6   zip_code        199 non-null    int64  \n",
      " 7   house_size      199 non-null    int64  \n",
      " 8   prev_sold_date  199 non-null    object \n",
      " 9   price           199 non-null    int64  \n",
      "dtypes: float64(1), int64(5), object(4)\n",
      "memory usage: 15.7+ KB\n"
     ]
    }
   ],
   "source": [
    "df.info()"
   ]
  },
  {
   "cell_type": "code",
   "execution_count": 10,
   "id": "46c7758b",
   "metadata": {},
   "outputs": [],
   "source": [
    "df[\"prev_sold_date\"]=pd.to_datetime(df[\"prev_sold_date\"])  #converting datatype in datetime"
   ]
  },
  {
   "cell_type": "code",
   "execution_count": 11,
   "id": "03d5499f",
   "metadata": {},
   "outputs": [
    {
     "name": "stdout",
     "output_type": "stream",
     "text": [
      "<class 'pandas.core.frame.DataFrame'>\n",
      "RangeIndex: 199 entries, 0 to 198\n",
      "Data columns (total 10 columns):\n",
      " #   Column          Non-Null Count  Dtype         \n",
      "---  ------          --------------  -----         \n",
      " 0   status          199 non-null    object        \n",
      " 1   bed             199 non-null    int64         \n",
      " 2   bath            199 non-null    int64         \n",
      " 3   acre_lot        199 non-null    float64       \n",
      " 4   city            199 non-null    object        \n",
      " 5   state           199 non-null    object        \n",
      " 6   zip_code        199 non-null    int64         \n",
      " 7   house_size      199 non-null    int64         \n",
      " 8   prev_sold_date  199 non-null    datetime64[ns]\n",
      " 9   price           199 non-null    int64         \n",
      "dtypes: datetime64[ns](1), float64(1), int64(5), object(3)\n",
      "memory usage: 15.7+ KB\n"
     ]
    }
   ],
   "source": [
    "df.info()"
   ]
  },
  {
   "cell_type": "code",
   "execution_count": 12,
   "id": "93d87d06",
   "metadata": {},
   "outputs": [
    {
     "data": {
      "text/html": [
       "<div>\n",
       "<style scoped>\n",
       "    .dataframe tbody tr th:only-of-type {\n",
       "        vertical-align: middle;\n",
       "    }\n",
       "\n",
       "    .dataframe tbody tr th {\n",
       "        vertical-align: top;\n",
       "    }\n",
       "\n",
       "    .dataframe thead th {\n",
       "        text-align: right;\n",
       "    }\n",
       "</style>\n",
       "<table border=\"1\" class=\"dataframe\">\n",
       "  <thead>\n",
       "    <tr style=\"text-align: right;\">\n",
       "      <th></th>\n",
       "      <th>status</th>\n",
       "      <th>city</th>\n",
       "      <th>state</th>\n",
       "    </tr>\n",
       "  </thead>\n",
       "  <tbody>\n",
       "    <tr>\n",
       "      <th>count</th>\n",
       "      <td>199</td>\n",
       "      <td>199</td>\n",
       "      <td>199</td>\n",
       "    </tr>\n",
       "    <tr>\n",
       "      <th>unique</th>\n",
       "      <td>1</td>\n",
       "      <td>40</td>\n",
       "      <td>4</td>\n",
       "    </tr>\n",
       "    <tr>\n",
       "      <th>top</th>\n",
       "      <td>for_sale</td>\n",
       "      <td>Dorado</td>\n",
       "      <td>Massachusetts</td>\n",
       "    </tr>\n",
       "    <tr>\n",
       "      <th>freq</th>\n",
       "      <td>199</td>\n",
       "      <td>20</td>\n",
       "      <td>161</td>\n",
       "    </tr>\n",
       "  </tbody>\n",
       "</table>\n",
       "</div>"
      ],
      "text/plain": [
       "          status    city          state\n",
       "count        199     199            199\n",
       "unique         1      40              4\n",
       "top     for_sale  Dorado  Massachusetts\n",
       "freq         199      20            161"
      ]
     },
     "execution_count": 12,
     "metadata": {},
     "output_type": "execute_result"
    }
   ],
   "source": [
    "df.describe(include=object)"
   ]
  },
  {
   "cell_type": "code",
   "execution_count": 13,
   "id": "85e197cb",
   "metadata": {},
   "outputs": [
    {
     "data": {
      "text/html": [
       "<div>\n",
       "<style scoped>\n",
       "    .dataframe tbody tr th:only-of-type {\n",
       "        vertical-align: middle;\n",
       "    }\n",
       "\n",
       "    .dataframe tbody tr th {\n",
       "        vertical-align: top;\n",
       "    }\n",
       "\n",
       "    .dataframe thead th {\n",
       "        text-align: right;\n",
       "    }\n",
       "</style>\n",
       "<table border=\"1\" class=\"dataframe\">\n",
       "  <thead>\n",
       "    <tr style=\"text-align: right;\">\n",
       "      <th></th>\n",
       "      <th>bed</th>\n",
       "      <th>bath</th>\n",
       "      <th>acre_lot</th>\n",
       "      <th>zip_code</th>\n",
       "      <th>house_size</th>\n",
       "      <th>prev_sold_date</th>\n",
       "      <th>price</th>\n",
       "    </tr>\n",
       "  </thead>\n",
       "  <tbody>\n",
       "    <tr>\n",
       "      <th>count</th>\n",
       "      <td>199.000000</td>\n",
       "      <td>199.000000</td>\n",
       "      <td>199.000000</td>\n",
       "      <td>199.000000</td>\n",
       "      <td>199.000000</td>\n",
       "      <td>199</td>\n",
       "      <td>1.990000e+02</td>\n",
       "    </tr>\n",
       "    <tr>\n",
       "      <th>mean</th>\n",
       "      <td>3.899497</td>\n",
       "      <td>2.467337</td>\n",
       "      <td>1.703367</td>\n",
       "      <td>1355.979899</td>\n",
       "      <td>2042.286432</td>\n",
       "      <td>2006-11-15 13:15:58.793969920</td>\n",
       "      <td>4.770415e+05</td>\n",
       "    </tr>\n",
       "    <tr>\n",
       "      <th>min</th>\n",
       "      <td>1.000000</td>\n",
       "      <td>1.000000</td>\n",
       "      <td>0.050000</td>\n",
       "      <td>802.000000</td>\n",
       "      <td>634.000000</td>\n",
       "      <td>1984-04-27 00:00:00</td>\n",
       "      <td>6.500000e+04</td>\n",
       "    </tr>\n",
       "    <tr>\n",
       "      <th>25%</th>\n",
       "      <td>3.000000</td>\n",
       "      <td>2.000000</td>\n",
       "      <td>0.160000</td>\n",
       "      <td>1002.000000</td>\n",
       "      <td>1192.000000</td>\n",
       "      <td>2000-08-09 12:00:00</td>\n",
       "      <td>2.199000e+05</td>\n",
       "    </tr>\n",
       "    <tr>\n",
       "      <th>50%</th>\n",
       "      <td>4.000000</td>\n",
       "      <td>2.000000</td>\n",
       "      <td>0.400000</td>\n",
       "      <td>1027.000000</td>\n",
       "      <td>1637.000000</td>\n",
       "      <td>2006-07-11 00:00:00</td>\n",
       "      <td>2.999000e+05</td>\n",
       "    </tr>\n",
       "    <tr>\n",
       "      <th>75%</th>\n",
       "      <td>4.000000</td>\n",
       "      <td>3.000000</td>\n",
       "      <td>0.890000</td>\n",
       "      <td>1075.000000</td>\n",
       "      <td>2344.000000</td>\n",
       "      <td>2014-09-24 00:00:00</td>\n",
       "      <td>4.350000e+05</td>\n",
       "    </tr>\n",
       "    <tr>\n",
       "      <th>max</th>\n",
       "      <td>12.000000</td>\n",
       "      <td>10.000000</td>\n",
       "      <td>100.500000</td>\n",
       "      <td>6238.000000</td>\n",
       "      <td>7000.000000</td>\n",
       "      <td>2021-09-23 00:00:00</td>\n",
       "      <td>6.899000e+06</td>\n",
       "    </tr>\n",
       "    <tr>\n",
       "      <th>std</th>\n",
       "      <td>1.693705</td>\n",
       "      <td>1.262388</td>\n",
       "      <td>7.862455</td>\n",
       "      <td>1200.949645</td>\n",
       "      <td>1188.433985</td>\n",
       "      <td>NaN</td>\n",
       "      <td>8.385516e+05</td>\n",
       "    </tr>\n",
       "  </tbody>\n",
       "</table>\n",
       "</div>"
      ],
      "text/plain": [
       "              bed        bath    acre_lot     zip_code   house_size  \\\n",
       "count  199.000000  199.000000  199.000000   199.000000   199.000000   \n",
       "mean     3.899497    2.467337    1.703367  1355.979899  2042.286432   \n",
       "min      1.000000    1.000000    0.050000   802.000000   634.000000   \n",
       "25%      3.000000    2.000000    0.160000  1002.000000  1192.000000   \n",
       "50%      4.000000    2.000000    0.400000  1027.000000  1637.000000   \n",
       "75%      4.000000    3.000000    0.890000  1075.000000  2344.000000   \n",
       "max     12.000000   10.000000  100.500000  6238.000000  7000.000000   \n",
       "std      1.693705    1.262388    7.862455  1200.949645  1188.433985   \n",
       "\n",
       "                      prev_sold_date         price  \n",
       "count                            199  1.990000e+02  \n",
       "mean   2006-11-15 13:15:58.793969920  4.770415e+05  \n",
       "min              1984-04-27 00:00:00  6.500000e+04  \n",
       "25%              2000-08-09 12:00:00  2.199000e+05  \n",
       "50%              2006-07-11 00:00:00  2.999000e+05  \n",
       "75%              2014-09-24 00:00:00  4.350000e+05  \n",
       "max              2021-09-23 00:00:00  6.899000e+06  \n",
       "std                              NaN  8.385516e+05  "
      ]
     },
     "execution_count": 13,
     "metadata": {},
     "output_type": "execute_result"
    }
   ],
   "source": [
    "df.describe()"
   ]
  },
  {
   "cell_type": "code",
   "execution_count": 16,
   "id": "40bc4feb",
   "metadata": {},
   "outputs": [
    {
     "name": "stdout",
     "output_type": "stream",
     "text": [
      "status\n",
      "['for_sale']\n",
      "--------------------------------------------------\n",
      "city\n",
      "['Dorado' 'Saint Thomas' 'Agawam' 'Pelham' 'Amherst' 'Granby' 'Whately'\n",
      " 'Sunderland' 'Chicopee' 'Belchertown' 'South Hadley' 'Ludlow' 'Orange'\n",
      " 'Holyoke' 'Easthampton' 'Northampton' 'Barre' 'Leverett' 'Southampton'\n",
      " 'Greenfield' 'Deerfield' 'West Springfield' 'Hadley' 'Williamsburg'\n",
      " 'Springfield' 'Montague' 'Athol' 'Blandford' 'Coventry' 'East Windsor'\n",
      " 'Vernon' 'Ware' 'Ellington' 'Longmeadow' 'Stafford' 'Manchester'\n",
      " 'Enfield' 'Palmer' 'Brimfield' 'Chester']\n",
      "--------------------------------------------------\n",
      "state\n",
      "['Puerto Rico' 'Virgin Islands' 'Massachusetts' 'Connecticut']\n",
      "--------------------------------------------------\n"
     ]
    }
   ],
   "source": [
    "for col in df.describe(include=\"object\").columns:\n",
    "    print(col)\n",
    "    print(df[col].unique())\n",
    "    print(\"-\"*50)"
   ]
  },
  {
   "cell_type": "code",
   "execution_count": 17,
   "id": "33dad55e",
   "metadata": {},
   "outputs": [
    {
     "data": {
      "text/plain": [
       "status            0\n",
       "bed               0\n",
       "bath              0\n",
       "acre_lot          0\n",
       "city              0\n",
       "state             0\n",
       "zip_code          0\n",
       "house_size        0\n",
       "prev_sold_date    0\n",
       "price             0\n",
       "dtype: int64"
      ]
     },
     "execution_count": 17,
     "metadata": {},
     "output_type": "execute_result"
    }
   ],
   "source": [
    "df.isnull().sum()"
   ]
  },
  {
   "cell_type": "code",
   "execution_count": 18,
   "id": "b24b12a6",
   "metadata": {},
   "outputs": [
    {
     "data": {
      "text/html": [
       "<div>\n",
       "<style scoped>\n",
       "    .dataframe tbody tr th:only-of-type {\n",
       "        vertical-align: middle;\n",
       "    }\n",
       "\n",
       "    .dataframe tbody tr th {\n",
       "        vertical-align: top;\n",
       "    }\n",
       "\n",
       "    .dataframe thead th {\n",
       "        text-align: right;\n",
       "    }\n",
       "</style>\n",
       "<table border=\"1\" class=\"dataframe\">\n",
       "  <thead>\n",
       "    <tr style=\"text-align: right;\">\n",
       "      <th></th>\n",
       "      <th>bed</th>\n",
       "      <th>bath</th>\n",
       "      <th>acre_lot</th>\n",
       "      <th>zip_code</th>\n",
       "      <th>house_size</th>\n",
       "      <th>prev_sold_date</th>\n",
       "      <th>price</th>\n",
       "    </tr>\n",
       "  </thead>\n",
       "  <tbody>\n",
       "    <tr>\n",
       "      <th>count</th>\n",
       "      <td>199.000000</td>\n",
       "      <td>199.000000</td>\n",
       "      <td>199.000000</td>\n",
       "      <td>199.000000</td>\n",
       "      <td>199.000000</td>\n",
       "      <td>199</td>\n",
       "      <td>1.990000e+02</td>\n",
       "    </tr>\n",
       "    <tr>\n",
       "      <th>mean</th>\n",
       "      <td>3.899497</td>\n",
       "      <td>2.467337</td>\n",
       "      <td>1.703367</td>\n",
       "      <td>1355.979899</td>\n",
       "      <td>2042.286432</td>\n",
       "      <td>2006-11-15 13:15:58.793969920</td>\n",
       "      <td>4.770415e+05</td>\n",
       "    </tr>\n",
       "    <tr>\n",
       "      <th>min</th>\n",
       "      <td>1.000000</td>\n",
       "      <td>1.000000</td>\n",
       "      <td>0.050000</td>\n",
       "      <td>802.000000</td>\n",
       "      <td>634.000000</td>\n",
       "      <td>1984-04-27 00:00:00</td>\n",
       "      <td>6.500000e+04</td>\n",
       "    </tr>\n",
       "    <tr>\n",
       "      <th>25%</th>\n",
       "      <td>3.000000</td>\n",
       "      <td>2.000000</td>\n",
       "      <td>0.160000</td>\n",
       "      <td>1002.000000</td>\n",
       "      <td>1192.000000</td>\n",
       "      <td>2000-08-09 12:00:00</td>\n",
       "      <td>2.199000e+05</td>\n",
       "    </tr>\n",
       "    <tr>\n",
       "      <th>50%</th>\n",
       "      <td>4.000000</td>\n",
       "      <td>2.000000</td>\n",
       "      <td>0.400000</td>\n",
       "      <td>1027.000000</td>\n",
       "      <td>1637.000000</td>\n",
       "      <td>2006-07-11 00:00:00</td>\n",
       "      <td>2.999000e+05</td>\n",
       "    </tr>\n",
       "    <tr>\n",
       "      <th>75%</th>\n",
       "      <td>4.000000</td>\n",
       "      <td>3.000000</td>\n",
       "      <td>0.890000</td>\n",
       "      <td>1075.000000</td>\n",
       "      <td>2344.000000</td>\n",
       "      <td>2014-09-24 00:00:00</td>\n",
       "      <td>4.350000e+05</td>\n",
       "    </tr>\n",
       "    <tr>\n",
       "      <th>max</th>\n",
       "      <td>12.000000</td>\n",
       "      <td>10.000000</td>\n",
       "      <td>100.500000</td>\n",
       "      <td>6238.000000</td>\n",
       "      <td>7000.000000</td>\n",
       "      <td>2021-09-23 00:00:00</td>\n",
       "      <td>6.899000e+06</td>\n",
       "    </tr>\n",
       "    <tr>\n",
       "      <th>std</th>\n",
       "      <td>1.693705</td>\n",
       "      <td>1.262388</td>\n",
       "      <td>7.862455</td>\n",
       "      <td>1200.949645</td>\n",
       "      <td>1188.433985</td>\n",
       "      <td>NaN</td>\n",
       "      <td>8.385516e+05</td>\n",
       "    </tr>\n",
       "  </tbody>\n",
       "</table>\n",
       "</div>"
      ],
      "text/plain": [
       "              bed        bath    acre_lot     zip_code   house_size  \\\n",
       "count  199.000000  199.000000  199.000000   199.000000   199.000000   \n",
       "mean     3.899497    2.467337    1.703367  1355.979899  2042.286432   \n",
       "min      1.000000    1.000000    0.050000   802.000000   634.000000   \n",
       "25%      3.000000    2.000000    0.160000  1002.000000  1192.000000   \n",
       "50%      4.000000    2.000000    0.400000  1027.000000  1637.000000   \n",
       "75%      4.000000    3.000000    0.890000  1075.000000  2344.000000   \n",
       "max     12.000000   10.000000  100.500000  6238.000000  7000.000000   \n",
       "std      1.693705    1.262388    7.862455  1200.949645  1188.433985   \n",
       "\n",
       "                      prev_sold_date         price  \n",
       "count                            199  1.990000e+02  \n",
       "mean   2006-11-15 13:15:58.793969920  4.770415e+05  \n",
       "min              1984-04-27 00:00:00  6.500000e+04  \n",
       "25%              2000-08-09 12:00:00  2.199000e+05  \n",
       "50%              2006-07-11 00:00:00  2.999000e+05  \n",
       "75%              2014-09-24 00:00:00  4.350000e+05  \n",
       "max              2021-09-23 00:00:00  6.899000e+06  \n",
       "std                              NaN  8.385516e+05  "
      ]
     },
     "execution_count": 18,
     "metadata": {},
     "output_type": "execute_result"
    }
   ],
   "source": [
    "df.describe()\n"
   ]
  },
  {
   "cell_type": "code",
   "execution_count": 19,
   "id": "5ee9557e",
   "metadata": {},
   "outputs": [
    {
     "data": {
      "text/plain": [
       "<Axes: >"
      ]
     },
     "execution_count": 19,
     "metadata": {},
     "output_type": "execute_result"
    },
    {
     "data": {
      "image/png": "[encoded data removed]",
      "text/plain": [
       "<Figure size 640x480 with 1 Axes>"
      ]
     },
     "metadata": {},
     "output_type": "display_data"
    }
   ],
   "source": [
    "df[\"price\"].plot(kind=\"box\")"
   ]
  },
  {
   "cell_type": "markdown",
   "id": "ce38ee5a",
   "metadata": {},
   "source": [
    "# Data Analysis and visuvalization"
   ]
  },
  {
   "cell_type": "code",
   "execution_count": 22,
   "id": "62ab1d87",
   "metadata": {},
   "outputs": [
    {
     "data": {
      "text/plain": [
       "house_size\n",
       "1192    0.105528\n",
       "1280    0.015075\n",
       "5000    0.015075\n",
       "640     0.015075\n",
       "1200    0.015075\n",
       "          ...   \n",
       "3444    0.005025\n",
       "7000    0.005025\n",
       "1008    0.005025\n",
       "2032    0.005025\n",
       "1367    0.005025\n",
       "Name: proportion, Length: 144, dtype: float64"
      ]
     },
     "execution_count": 22,
     "metadata": {},
     "output_type": "execute_result"
    }
   ],
   "source": [
    "house_size_perc=df[\"house_size\"].value_counts(normalize=True)\n",
    "house_size_perc"
   ]
  },
  {
   "cell_type": "code",
   "execution_count": 23,
   "id": "f85c4d7c",
   "metadata": {},
   "outputs": [
    {
     "data": {
      "text/plain": [
       "acre_lot\n",
       "0.09    0.100503\n",
       "0.40    0.030151\n",
       "0.15    0.030151\n",
       "0.25    0.025126\n",
       "0.16    0.025126\n",
       "          ...   \n",
       "0.62    0.005025\n",
       "1.07    0.005025\n",
       "1.76    0.005025\n",
       "4.08    0.005025\n",
       "5.93    0.005025\n",
       "Name: proportion, Length: 91, dtype: float64"
      ]
     },
     "execution_count": 23,
     "metadata": {},
     "output_type": "execute_result"
    }
   ],
   "source": [
    "acre_lot_perc=df[\"acre_lot\"].value_counts(normalize=True)\n",
    "acre_lot_perc"
   ]
  },
  {
   "cell_type": "code",
   "execution_count": 29,
   "id": "a580b1df",
   "metadata": {},
   "outputs": [
    {
     "name": "stdout",
     "output_type": "stream",
     "text": [
      "     status  bed  bath  acre_lot    city        state  zip_code  house_size  \\\n",
      "0  for_sale    7     3      0.09  Dorado  Puerto Rico       949        1192   \n",
      "1  for_sale    7     3      0.09  Dorado  Puerto Rico       949        1192   \n",
      "2  for_sale    7     3      0.09  Dorado  Puerto Rico       949        1192   \n",
      "3  for_sale    7     3      0.09  Dorado  Puerto Rico       949        1192   \n",
      "4  for_sale    7     3      0.09  Dorado  Puerto Rico       949        1192   \n",
      "\n",
      "  prev_sold_date   price  \n",
      "0     28-06-2019  110000  \n",
      "1     28-06-2019  110000  \n",
      "2     28-06-2019  110000  \n",
      "3     28-06-2019  110000  \n",
      "4     28-06-2019  110000  \n"
     ]
    }
   ],
   "source": [
    "import pandas as pd\n",
    "\n",
    "# Load the real estate data\n",
    "df = pd.read_csv('real_estate2..csv')\n",
    "\n",
    "# Display the first few rows of the dataframe\n",
    "print(df.head())"
   ]
  },
  {
   "cell_type": "code",
   "execution_count": 30,
   "id": "cf2c256a",
   "metadata": {},
   "outputs": [
    {
     "data": {
      "image/png": "[encoded data removed]",
      "text/plain": [
       "<Figure size 1000x600 with 1 Axes>"
      ]
     },
     "metadata": {},
     "output_type": "display_data"
    }
   ],
   "source": [
    "import matplotlib.pyplot as plt\n",
    "\n",
    "# Plotting a bar chart for the number of bedrooms\n",
    "plt.figure(figsize=(10, 6))\n",
    "df['bed'].value_counts().sort_index().plot(kind='bar', color='skyblue')\n",
    "plt.title('Number of Bedrooms in Real Estate Data')\n",
    "plt.xlabel('Number of Bedrooms')\n",
    "plt.ylabel('Count')\n",
    "plt.show()"
   ]
  },
  {
   "cell_type": "code",
   "execution_count": 31,
   "id": "c064e991",
   "metadata": {},
   "outputs": [],
   "source": [
    "#What is the average house size in the dataset?"
   ]
  },
  {
   "cell_type": "code",
   "execution_count": 32,
   "id": "af508910",
   "metadata": {},
   "outputs": [
    {
     "data": {
      "text/plain": [
       "2042.286432160804"
      ]
     },
     "execution_count": 32,
     "metadata": {},
     "output_type": "execute_result"
    }
   ],
   "source": [
    "# Calculate the average house size\n",
    "average_house_size = df['house_size'].mean()\n",
    "average_house_size"
   ]
  },
  {
   "cell_type": "code",
   "execution_count": 33,
   "id": "227a3713",
   "metadata": {},
   "outputs": [],
   "source": [
    "#Is there a correlation between house size and price in the dataset?"
   ]
  },
  {
   "cell_type": "code",
   "execution_count": 34,
   "id": "640581e7",
   "metadata": {},
   "outputs": [
    {
     "data": {
      "image/png": "[encoded data removed]",
      "text/plain": [
       "<Figure size 1000x600 with 1 Axes>"
      ]
     },
     "metadata": {},
     "output_type": "display_data"
    }
   ],
   "source": [
    "import seaborn as sns\n",
    "\n",
    "# Plotting a scatter plot to visualize the correlation between house size and price\n",
    "plt.figure(figsize=(10, 6))\n",
    "sns.scatterplot(x='house_size', y='price', data=df, color='skyblue')\n",
    "plt.title('House Size vs Price')\n",
    "plt.xlabel('House Size')\n",
    "plt.ylabel('Price')\n",
    "plt.show()"
   ]
  },
  {
   "cell_type": "code",
   "execution_count": 35,
   "id": "c77cf4e2",
   "metadata": {},
   "outputs": [],
   "source": [
    "#How does the distribution of house sizes look in the dataset?"
   ]
  },
  {
   "cell_type": "code",
   "execution_count": 36,
   "id": "9745b4de",
   "metadata": {},
   "outputs": [
    {
     "data": {
      "image/png": "[encoded data removed]",
      "text/plain": [
       "<Figure size 1000x600 with 1 Axes>"
      ]
     },
     "metadata": {},
     "output_type": "display_data"
    }
   ],
   "source": [
    "# Plotting a histogram to visualize the distribution of house sizes\n",
    "plt.figure(figsize=(10, 6))\n",
    "sns.histplot(df['house_size'], bins=20, color='skyblue', kde=True)\n",
    "plt.title('Distribution of House Sizes')\n",
    "plt.xlabel('House Size')\n",
    "plt.ylabel('Frequency')\n",
    "plt.show()"
   ]
  },
  {
   "cell_type": "code",
   "execution_count": 37,
   "id": "a69b938a",
   "metadata": {},
   "outputs": [],
   "source": [
    "    # What were the key findings from the real estate data analysis?"
   ]
  },
  {
   "cell_type": "markdown",
   "id": "70e177d3",
   "metadata": {},
   "source": [
    "The key findings from the real estate data analysis are:\n",
    "\n",
    "The average house size in the dataset is approximately 2042.29 square feet.\n",
    "\n",
    "There is a positive correlation between house size and price, as shown in the scatter plot.\n",
    "\n",
    "The distribution of house sizes in the dataset is visualized through a histogram.\n",
    "\n",
    "The real estate dataset was obtained from Kaggle and collected via web scraping of the realtor.com website."
   ]
  },
  {
   "cell_type": "code",
   "execution_count": null,
   "id": "419103dd",
   "metadata": {},
   "outputs": [],
   "source": []
  }
 ],
 "metadata": {
  "kernelspec": {
   "display_name": "Python 3 (ipykernel)",
   "language": "python",
   "name": "python3"
  },
  "language_info": {
   "codemirror_mode": {
    "name": "ipython",
    "version": 3
   },
   "file_extension": ".py",
   "mimetype": "text/x-python",
   "name": "python",
   "nbconvert_exporter": "python",
   "pygments_lexer": "ipython3",
   "version": "3.11.5"
  }
 },
 "nbformat": 4,
 "nbformat_minor": 5
}
